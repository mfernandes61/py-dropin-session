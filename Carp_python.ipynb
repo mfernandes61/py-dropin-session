{
  "nbformat": 4,
  "nbformat_minor": 0,
  "metadata": {
    "colab": {
      "provenance": [],
      "authorship_tag": "ABX9TyMfvm6rQxYAG/ANZCsdJ2xW",
      "include_colab_link": true
    },
    "kernelspec": {
      "name": "python3",
      "display_name": "Python 3"
    },
    "language_info": {
      "name": "python"
    }
  },
  "cells": [
    {
      "cell_type": "markdown",
      "metadata": {
        "id": "view-in-github",
        "colab_type": "text"
      },
      "source": [
        "<a href=\"https://colab.research.google.com/github/mfernandes61/py-dropin-session/blob/main/Carp_python.ipynb\" target=\"_parent\"><img src=\"https://colab.research.google.com/assets/colab-badge.svg\" alt=\"Open In Colab\"/></a>"
      ]
    },
    {
      "cell_type": "markdown",
      "source": [
        "Carpentries Python course as a NoteBook.  \n",
        "Created as teaching aid by Mark Fernandes.  \n",
        "University of Cambridge.  \n",
        "\n",
        "\n",
        "This document is a review of useful concepts from the Carpentries course materials.   \n",
        "\n",
        "\n",
        "In the next cell **!** allows us to run external programs from a code cell e.g. to install a required Python package.   "
      ],
      "metadata": {
        "id": "r1vTEduz0AaK"
      }
    },
    {
      "cell_type": "code",
      "execution_count": null,
      "metadata": {
        "id": "-b_J-mevz9IN"
      },
      "outputs": [],
      "source": [
        "!pip install plotnine"
      ]
    },
    {
      "cell_type": "markdown",
      "source": [
        "Saving simple data items in Python data types.   "
      ],
      "metadata": {
        "id": "TsYNaUQsWExc"
      }
    },
    {
      "cell_type": "code",
      "source": [
        "text = \"Data Carpentry\"  # An example of assigning a value to a new text variable,\n",
        "                         # also known as a string data type in Python\n",
        "number = 42              # An example of assigning a numeric value, or an integer data type\n",
        "pi_value = 3.1415        # An example of assigning a floating point value (the float data type)"
      ],
      "metadata": {
        "id": "oXzPj1NA1nPL"
      },
      "execution_count": null,
      "outputs": []
    },
    {
      "cell_type": "code",
      "source": [
        "type(text)"
      ],
      "metadata": {
        "id": "Cf3tMb-btQzG"
      },
      "execution_count": null,
      "outputs": []
    },
    {
      "cell_type": "code",
      "source": [
        "type(number)"
      ],
      "metadata": {
        "id": "-cEoRvWRt1Yd"
      },
      "execution_count": null,
      "outputs": []
    },
    {
      "cell_type": "code",
      "source": [
        "print(text)"
      ],
      "metadata": {
        "id": "aYxt4ZxTuFau"
      },
      "execution_count": null,
      "outputs": []
    },
    {
      "cell_type": "code",
      "source": [
        "text"
      ],
      "metadata": {
        "id": "mWDi1stjuLl8"
      },
      "execution_count": null,
      "outputs": []
    },
    {
      "cell_type": "markdown",
      "source": [
        "Carrying out arithmetic and performing comparisons.   "
      ],
      "metadata": {
        "id": "d_cn5b_GWW3S"
      }
    },
    {
      "cell_type": "code",
      "source": [
        "6 * 7  # Multiplication"
      ],
      "metadata": {
        "id": "no3j9zDDuj_5"
      },
      "execution_count": null,
      "outputs": []
    },
    {
      "cell_type": "code",
      "source": [
        "3 > 4 # Logical test"
      ],
      "metadata": {
        "id": "FYn-vY_8u3a_"
      },
      "execution_count": null,
      "outputs": []
    },
    {
      "cell_type": "markdown",
      "source": [
        "## Moving on to more sophisticated (and useful) Python data structures.   "
      ],
      "metadata": {
        "id": "7VBdX2jfY_eC"
      }
    },
    {
      "cell_type": "code",
      "source": [
        "# Lists\n",
        "numbers = [1, 2, 3]\n",
        "numbers[0]"
      ],
      "metadata": {
        "id": "EWXLfqKOvEkF"
      },
      "execution_count": null,
      "outputs": []
    },
    {
      "cell_type": "code",
      "source": [
        "# for loop & list\n",
        "for num in numbers:\n",
        "    print(num)\n"
      ],
      "metadata": {
        "id": "R34-oG4ePlD-"
      },
      "execution_count": null,
      "outputs": []
    },
    {
      "cell_type": "code",
      "source": [
        "# Append to list\n",
        "numbers.append(4)\n",
        "print(numbers)"
      ],
      "metadata": {
        "id": "jVeXxE0mPzF_"
      },
      "execution_count": null,
      "outputs": []
    },
    {
      "cell_type": "code",
      "source": [
        "# Tuples use parentheses\n",
        "a_tuple = (1, 2, 3)\n",
        "another_tuple = ('blue', 'green', 'red')\n",
        "\n",
        "# Note: lists use square brackets\n",
        "a_list = [1, 2, 3]\n",
        "\n",
        "# length function\n",
        "len(a_tuple)"
      ],
      "metadata": {
        "id": "EQdf7rGiQAJz"
      },
      "execution_count": null,
      "outputs": []
    },
    {
      "cell_type": "markdown",
      "source": [
        "**Key Differences between List and Tuple**\n",
        "\n",
        "1\tLists are mutable(can be modified).\tTuples are immutable(cannot be modified).   \n",
        "2\tIteration over lists is time-consuming.\tIterations over tuple is faster.  \n",
        "3\tLists are better for performing operations, such as insertion and deletion.\tTuples are more suitable for accessing elements efficiently.   \n",
        "4\tLists consume more memory.\tTuples consumes less memory.  \n",
        "5\tLists have several built-in methods.\tTuples have fewer built-in methods.   \n",
        "6\tLists are more prone to unexpected changes and errors.\tTuples, being immutable are less error prone.   \n"
      ],
      "metadata": {
        "id": "bRKb8np9ZuvF"
      }
    },
    {
      "cell_type": "code",
      "source": [
        "# Dictionaries\n",
        "translation = {'one': 'first', 'two': 'second'}\n",
        "translation['one']"
      ],
      "metadata": {
        "id": "lx-yelDdQsqS"
      },
      "execution_count": null,
      "outputs": []
    },
    {
      "cell_type": "code",
      "source": [
        "rev = {'first': 'one', 'second': 'two'}\n",
        "print(rev['first'])\n",
        "\n",
        "# add to dictionary\n",
        "rev['third'] = 'three'\n",
        "rev"
      ],
      "metadata": {
        "id": "fs4_IKHhRp5h"
      },
      "execution_count": null,
      "outputs": []
    },
    {
      "cell_type": "code",
      "source": [
        "# Loop through dictionaries - method 1\n",
        "print('Method 1')\n",
        "for key, value in rev.items():\n",
        "    print(key, '->', value)\n",
        "\n",
        "# Loop through dictionaries - method 2\n",
        "print('Method 2')\n",
        "for key in rev.keys():\n",
        "    print(key, '->', rev[key])"
      ],
      "metadata": {
        "id": "99dBSgNySKU5"
      },
      "execution_count": null,
      "outputs": []
    },
    {
      "cell_type": "code",
      "source": [
        "# Example of function\n",
        "def add_function(a, b):\n",
        "    result = a + b\n",
        "    return result\n",
        "\n",
        "z = add_function(20, 22)\n",
        "print(z)"
      ],
      "metadata": {
        "id": "M63Jip1zS9AW"
      },
      "execution_count": null,
      "outputs": []
    },
    {
      "cell_type": "markdown",
      "source": [
        "**Carpentries data analysis example**.   \n",
        "Creating the project directory structure and getting the data:   \n"
      ],
      "metadata": {
        "id": "d9oGZ7WRbHOW"
      }
    },
    {
      "cell_type": "code",
      "source": [
        "!mkdir data\n",
        "!mkdir data_output"
      ],
      "metadata": {
        "id": "pcCkWyH4TUgy"
      },
      "execution_count": null,
      "outputs": []
    },
    {
      "cell_type": "code",
      "source": [
        "!wget -O data/surveys.csv https://ndownloader.figshare.com/files/2292172\n",
        "!wget -O data/species.csv https://raw.githubusercontent.com/datacarpentry/python-ecology-lesson/main/episodes/data/species.csv\n",
        "!wget -O data/speciesSubset.csv https://raw.githubusercontent.com/datacarpentry/python-ecology-lesson/main/episodes/data/speciesSubset.csv"
      ],
      "metadata": {
        "id": "7TyOEvJFT6Fh"
      },
      "execution_count": null,
      "outputs": []
    },
    {
      "cell_type": "markdown",
      "source": [
        "Load in analysis packages and use them to read the data from the downloaded file into a Python data frame.   "
      ],
      "metadata": {
        "id": "miP68gshbxnq"
      }
    },
    {
      "cell_type": "code",
      "source": [
        "import pandas as pd\n",
        "# Note that pd.read_csv is used because we imported pandas as pd\n",
        "surveys_df = pd.read_csv(\"data/surveys.csv\")\n",
        "\n",
        "print(surveys_df.head()) # The head() method displays the first several lines of a file.\n",
        "\n",
        "print(type(surveys_df))\n",
        "\n",
        "print(surveys_df.dtypes)"
      ],
      "metadata": {
        "id": "Sz_eO5nrUj4Z"
      },
      "execution_count": null,
      "outputs": []
    },
    {
      "cell_type": "code",
      "source": [
        "# Look at the column names\n",
        "surveys_df.columns"
      ],
      "metadata": {
        "id": "Q6KBia5oYMTL"
      },
      "execution_count": null,
      "outputs": []
    },
    {
      "cell_type": "code",
      "source": [
        "# list all the unique species names\n",
        "pd.unique(surveys_df['species_id'])"
      ],
      "metadata": {
        "id": "gqOKdcmfVqqD"
      },
      "execution_count": null,
      "outputs": []
    },
    {
      "cell_type": "code",
      "source": [
        "# Basic summary statistics of weight column\n",
        "surveys_df['weight'].describe()"
      ],
      "metadata": {
        "id": "_rsTG-Y0YwlH"
      },
      "execution_count": null,
      "outputs": []
    },
    {
      "cell_type": "code",
      "source": [
        "# using groupby and describe\n",
        "# Group data by sex\n",
        "grouped_data = surveys_df.groupby('sex')\n",
        "\n",
        "# Summary statistics for all numeric columns by sex\n",
        "print(grouped_data.describe())\n",
        "# Provide the mean for each numeric column by sex\n",
        "print(grouped_data.mean(numeric_only=True))"
      ],
      "metadata": {
        "id": "SWJohhSiZTG9"
      },
      "execution_count": null,
      "outputs": []
    },
    {
      "cell_type": "code",
      "source": [
        "# Count the number of samples by species\n",
        "species_counts = surveys_df.groupby('species_id')['record_id'].count()\n",
        "print(species_counts)\n",
        "# Just the DO ones\n",
        "print(surveys_df.groupby('species_id')['record_id'].count()['DO'])"
      ],
      "metadata": {
        "id": "a6MXjvPdg4pH"
      },
      "execution_count": null,
      "outputs": []
    },
    {
      "cell_type": "code",
      "source": [
        "# Multiply all weight values by 2\n",
        "surveys_df['weight']*2"
      ],
      "metadata": {
        "id": "5bkBPhBRhh3d"
      },
      "execution_count": null,
      "outputs": []
    },
    {
      "cell_type": "code",
      "source": [
        "# Quick plot using matplotlib\n",
        "# Make sure figures appear inline in Ipython Notebook\n",
        "%matplotlib inline\n",
        "# Create a quick bar chart\n",
        "species_counts.plot(kind='bar');"
      ],
      "metadata": {
        "id": "6RbVvXgfiUL0"
      },
      "execution_count": null,
      "outputs": []
    },
    {
      "cell_type": "code",
      "source": [
        "# plot how many animals captured in each site\n",
        "total_count = surveys_df.groupby('plot_id')['record_id'].nunique()\n",
        "# Let's plot that too\n",
        "total_count.plot(kind='bar');"
      ],
      "metadata": {
        "id": "tOVLcZJTijIC"
      },
      "execution_count": null,
      "outputs": []
    },
    {
      "cell_type": "code",
      "source": [
        "# TIP: use the .head() method we saw earlier to make output shorter\n",
        "# Method 1: select a 'subset' of the data using the column name\n",
        "surveys_df['species_id']\n",
        "\n",
        "# Method 2: use the column name as an 'attribute'; gives the same output\n",
        "surveys_df.species_id\n",
        "\n",
        "# Creates an object, surveys_species, that only contains the `species_id` column\n",
        "surveys_species = surveys_df['species_id']\n",
        "\n",
        "# Select the species and plot columns from the DataFrame\n",
        "print(surveys_df[['species_id', 'plot_id']])\n",
        "\n",
        "# What happens when you flip the order?\n",
        "print(surveys_df[['plot_id', 'species_id']])\n",
        "\n",
        "# What happens if you ask for a column that doesn't exist?\n",
        "# print(surveys_df['speciess'])"
      ],
      "metadata": {
        "id": "1WhAsNrGiy0W"
      },
      "execution_count": null,
      "outputs": []
    },
    {
      "cell_type": "code",
      "source": [
        "# Select rows 0, 1, 2 (row 3 is not selected)\n",
        "print(surveys_df[0:3])\n",
        "\n",
        "# Select the first 5 rows (rows 0, 1, 2, 3, 4)\n",
        "print(surveys_df[:5])\n",
        "\n",
        "# Select the last element in the list\n",
        "# (the slice starts at the last element, and ends at the end of the list)\n",
        "print(surveys_df[-1:])"
      ],
      "metadata": {
        "id": "ODw4XbBQEiZH"
      },
      "execution_count": null,
      "outputs": []
    },
    {
      "cell_type": "code",
      "source": [
        "# Using the 'copy() method'\n",
        "true_copy_surveys_df = surveys_df.copy()\n",
        "\n",
        "# Using the '=' operator\n",
        "ref_surveys_df = surveys_df\n",
        "\n",
        "# Assign the value `0` to the first three rows of data in the DataFrame\n",
        "ref_surveys_df[0:3] = 0\n",
        "\n",
        "# ref_surveys_df was created using the '=' operator\n",
        "print(ref_surveys_df.head())\n",
        "\n",
        "# true_copy_surveys_df was created using the copy() function\n",
        "print(true_copy_surveys_df.head())\n",
        "\n",
        "# surveys_df is the original dataframe\n",
        "print(surveys_df.head())"
      ],
      "metadata": {
        "id": "VfH8X-E4GVR7"
      },
      "execution_count": null,
      "outputs": []
    },
    {
      "cell_type": "code",
      "source": [
        "surveys_df = pd.read_csv(\"data/surveys.csv\")\n",
        "\n",
        "# iloc[row slicing, column slicing]\n",
        "surveys_df.iloc[0:3, 1:4]\n",
        "\n",
        "# Select all columns for rows of index values 0 and 10\n",
        "print(surveys_df.loc[[0, 10], :])\n",
        "\n",
        "# What does this do?\n",
        "print(surveys_df.loc[0, ['species_id', 'plot_id', 'weight']])\n",
        "\n",
        "# What happens when you type the code below?\n",
        "# print(surveys_df.loc[[0, 10, 35549], :])"
      ],
      "metadata": {
        "id": "oWSK_wC8JAPg"
      },
      "execution_count": null,
      "outputs": []
    },
    {
      "cell_type": "code",
      "source": [
        "surveys_df.iloc[2, 6]"
      ],
      "metadata": {
        "id": "Raewvsj9LCJT"
      },
      "execution_count": null,
      "outputs": []
    },
    {
      "cell_type": "code",
      "source": [
        "# list rows equal to 2002\n",
        "print(surveys_df[surveys_df.year == 2002])\n",
        "\n",
        "print(\"------\")\n",
        "# list rows not equal to 2002\n",
        "print(surveys_df[surveys_df.year != 2002])\n",
        "\n",
        "print(\"------\")\n",
        "print(surveys_df[(surveys_df.year >= 1980) & (surveys_df.year <= 1985)])"
      ],
      "metadata": {
        "id": "UKhdD7lXKq8U"
      },
      "execution_count": null,
      "outputs": []
    },
    {
      "cell_type": "code",
      "source": [
        "pd.isnull(surveys_df)"
      ],
      "metadata": {
        "id": "ijEVYiQ4JuJL"
      },
      "execution_count": null,
      "outputs": []
    },
    {
      "cell_type": "code",
      "source": [
        "# To select just the rows with NaN values, we can use the 'any()' method\n",
        "surveys_df[pd.isnull(surveys_df).any(axis=1)]"
      ],
      "metadata": {
        "id": "4Zx9wl4jPpR5"
      },
      "execution_count": null,
      "outputs": []
    },
    {
      "cell_type": "code",
      "source": [
        "# Data types\n",
        "print(type(surveys_df))\n",
        "print('--')\n",
        "print(surveys_df['sex'].dtype)\n",
        "print('--')\n",
        "print(surveys_df['record_id'].dtype)\n",
        "print('--')\n",
        "surveys_df.dtypes"
      ],
      "metadata": {
        "id": "9ywWiwHOP2ze"
      },
      "execution_count": null,
      "outputs": []
    },
    {
      "cell_type": "code",
      "source": [
        "# Convert the record_id field from an integer to a float\n",
        "surveys_df['record_id'] = surveys_df['record_id'].astype('float64')\n",
        "surveys_df['record_id'].dtype"
      ],
      "metadata": {
        "id": "spyE8-VaUVdC"
      },
      "execution_count": null,
      "outputs": []
    },
    {
      "cell_type": "code",
      "source": [
        "print(surveys_df['weight'].mean())\n",
        "# missing values\n",
        "print(len(surveys_df[surveys_df['weight'].isna()]))\n",
        "# How many rows have weight values?\n",
        "print(len(surveys_df[surveys_df['weight'] > 0]))\n",
        "\n",
        "df1 = surveys_df.copy()\n",
        "# Fill all NaN values with 0\n",
        "df1['weight'] = df1['weight'].fillna(0)\n",
        "\n",
        "print(df1['weight'].mean())\n",
        "\n",
        "df1['weight'] = surveys_df['weight'].fillna(surveys_df['weight'].mean())\n"
      ],
      "metadata": {
        "id": "pIWj6w5C00u9"
      },
      "execution_count": null,
      "outputs": []
    },
    {
      "cell_type": "code",
      "source": [
        "# Drop all missing values\n",
        "df_na = surveys_df.dropna()\n",
        "# Write DataFrame to CSV\n",
        "df_na.to_csv('data_output/surveys_complete.csv', index=False)"
      ],
      "metadata": {
        "id": "bqdTBzMM1Z2r"
      },
      "execution_count": null,
      "outputs": []
    },
    {
      "cell_type": "code",
      "source": [
        "# Combining DataFrames with Pandas\n",
        "import pandas as pd\n",
        "surveys_df = pd.read_csv(\"data/surveys.csv\",\n",
        "                         keep_default_na=False, na_values=[\"\"])\n",
        "print(surveys_df)\n"
      ],
      "metadata": {
        "id": "qdlEgKqf3HvQ"
      },
      "execution_count": null,
      "outputs": []
    },
    {
      "cell_type": "code",
      "source": [
        "species_df = pd.read_csv('data/species.csv', keep_default_na=False, na_values=[\"\"])\n",
        "species_df"
      ],
      "metadata": {
        "id": "rUuVxK4ZVpHl"
      },
      "execution_count": null,
      "outputs": []
    },
    {
      "cell_type": "code",
      "source": [
        "# Read in first 10 lines of surveys table\n",
        "survey_sub = surveys_df.head(10)\n",
        "# Grab the last 10 rows\n",
        "survey_sub_last10 = surveys_df.tail(10)\n",
        "# Reset the index values to the second dataframe appends properly\n",
        "survey_sub_last10 = survey_sub_last10.reset_index(drop=True)\n",
        "# drop=True option avoids adding new index column with old index values\n",
        "\n",
        "# Stack the DataFrames on top of each other\n",
        "vertical_stack = pd.concat([survey_sub, survey_sub_last10], axis=0)\n",
        "\n",
        "# Place the DataFrames side by side\n",
        "horizontal_stack = pd.concat([survey_sub, survey_sub_last10], axis=1)\n",
        "\n",
        "print(vertical_stack)\n",
        "print(\"--\")\n",
        "print(horizontal_stack)"
      ],
      "metadata": {
        "id": "zDm1jYEdR46u"
      },
      "execution_count": null,
      "outputs": []
    },
    {
      "cell_type": "code",
      "source": [
        "# Write DataFrame to CSV\n",
        "vertical_stack.to_csv('data/out.csv', index=False)\n",
        "\n",
        "# For kicks read our output back into Python and make sure all looks good\n",
        "new_output = pd.read_csv('data/out.csv', keep_default_na=False, na_values=[\"\"])\n",
        "print(new_output)"
      ],
      "metadata": {
        "id": "N5XuXAatSR9B"
      },
      "execution_count": null,
      "outputs": []
    },
    {
      "cell_type": "code",
      "source": [
        "# Read in first 10 lines of surveys table\n",
        "survey_sub = surveys_df.head(10)\n",
        "\n",
        "# Import a small subset of the species data designed for this part of the lesson.\n",
        "# It is stored in the data folder.\n",
        "species_sub = pd.read_csv('data/speciesSubset.csv', keep_default_na=False, na_values=[\"\"])\n",
        "\n",
        "print(species_sub.columns)\n",
        "\n",
        "print(survey_sub.columns)"
      ],
      "metadata": {
        "id": "6oPoeivWSzog"
      },
      "execution_count": null,
      "outputs": []
    },
    {
      "cell_type": "code",
      "source": [
        "# Joins\n",
        "merged_inner = pd.merge(left=survey_sub, right=species_sub, left_on='species_id', right_on='species_id')\n",
        "\n",
        "print(merged_inner.shape)\n",
        "print(\"--\")\n",
        "print(merged_inner)\n"
      ],
      "metadata": {
        "id": "Ai8z3f4Gca-C"
      },
      "execution_count": null,
      "outputs": []
    },
    {
      "cell_type": "code",
      "source": [
        "print(\"-+-\")\n",
        "\n",
        "merged_left = pd.merge(left=survey_sub, right=species_sub, how='left', left_on='species_id', right_on='species_id')\n",
        "\n",
        "print(merged_left)\n",
        "\n",
        "print(\"-++-\")\n",
        "print(merged_left[merged_left['genus'].isna()])"
      ],
      "metadata": {
        "id": "Q2OtUyaNHKKI"
      },
      "execution_count": null,
      "outputs": []
    },
    {
      "cell_type": "code",
      "source": [
        "# for loops\n",
        "animals = ['lion', 'tiger', 'crocodile', 'vulture', 'hippo']\n",
        "print(animals)\n",
        "print(\"++++\")\n",
        "\n",
        "for creature in animals:\n",
        "    print(creature)\n",
        "\n",
        "print(\"+++++++++\")\n",
        "animals = ['lion', 'tiger', 'crocodile', 'vulture', 'hippo']\n",
        "for creature in animals:\n",
        "    pass\n",
        "print('The loop variable is now: ' + creature)\n"
      ],
      "metadata": {
        "id": "DKbXcpkAHhvH"
      },
      "execution_count": null,
      "outputs": []
    },
    {
      "cell_type": "code",
      "source": [
        "# OS calls\n",
        "import os\n",
        "\n",
        "os.mkdir('data/yearly_files')\n",
        "os.listdir('data')"
      ],
      "metadata": {
        "id": "SkY8E6ztHMUt"
      },
      "execution_count": null,
      "outputs": []
    },
    {
      "cell_type": "code",
      "source": [
        "import pandas as pd\n",
        "\n",
        "# Load the data into a DataFrame\n",
        "surveys_df = pd.read_csv('data/surveys.csv')\n",
        "\n",
        "# Select only data for the year 2002\n",
        "surveys2002 = surveys_df[surveys_df.year == 2002]\n",
        "\n",
        "# Write the new DataFrame to a CSV file\n",
        "surveys2002.to_csv('data/yearly_files/surveys2002.csv')\n",
        "\n",
        "surveys_df['year'].unique()"
      ],
      "metadata": {
        "id": "2lDKhW2RGZob"
      },
      "execution_count": null,
      "outputs": []
    },
    {
      "cell_type": "code",
      "source": [
        "for year in surveys_df['year'].unique():\n",
        "   filename='data/yearly_files/surveys' + str(year) + '.csv'\n",
        "   print(filename)"
      ],
      "metadata": {
        "id": "1yGtP-FUF6Yk"
      },
      "execution_count": null,
      "outputs": []
    },
    {
      "cell_type": "code",
      "source": [
        "# Load the data into a DataFrame\n",
        "surveys_df = pd.read_csv('data/surveys.csv')\n",
        "\n",
        "for year in surveys_df['year'].unique():\n",
        "\n",
        "    # Select data for the year\n",
        "    surveys_year = surveys_df[surveys_df.year == year]\n",
        "\n",
        "    # Write the new DataFrame to a CSV file\n",
        "    filename = 'data/yearly_files/surveys' + str(year) + '.csv'\n",
        "    surveys_year.to_csv(filename)"
      ],
      "metadata": {
        "id": "T1uPIjV_Z15y"
      },
      "execution_count": null,
      "outputs": []
    },
    {
      "cell_type": "code",
      "source": [
        "def one_year_csv_writer(this_year, all_data):\n",
        "    \"\"\"\n",
        "    Writes a csv file for data from a given year.\n",
        "\n",
        "    this_year -- year for which data is extracted\n",
        "    all_data -- DataFrame with multi-year data\n",
        "    \"\"\"\n",
        "\n",
        "    # Select data for the year\n",
        "    surveys_year = all_data[all_data.year == this_year]\n",
        "\n",
        "    # Write the new DataFrame to a csv file\n",
        "    filename = 'data/yearly_files/function_surveys' + str(this_year) + '.csv'\n",
        "    surveys_year.to_csv(filename)\n",
        "\n",
        "\n",
        "\n",
        "help(one_year_csv_writer)"
      ],
      "metadata": {
        "id": "nOfviXu9O32C"
      },
      "execution_count": null,
      "outputs": []
    },
    {
      "cell_type": "code",
      "source": [
        "# if statements\n",
        "a = 5\n",
        "\n",
        "if a<0:  # Meets first condition?\n",
        "\n",
        "    # if a IS less than zero\n",
        "    print('a is a negative number')\n",
        "\n",
        "elif a>0:  # Did not meet first condition. meets second condition?\n",
        "\n",
        "    # if a ISN'T less than zero and IS more than zero\n",
        "    print('a is a positive number')\n",
        "\n",
        "else:  # Met neither condition\n",
        "\n",
        "    # if a ISN'T less than zero and ISN'T more than zero\n",
        "    print('a must be zero!')\n",
        "\n"
      ],
      "metadata": {
        "id": "h544w021Pm01"
      },
      "execution_count": null,
      "outputs": []
    },
    {
      "cell_type": "code",
      "source": [
        "# plots using plotnine\n",
        "%matplotlib inline\n",
        "import plotnine as p9\n",
        "\n",
        "# get data without NAs\n",
        "import pandas as pd\n",
        "\n",
        "surveys_complete = pd.read_csv('data/surveys.csv')\n",
        "surveys_complete = surveys_complete.dropna()\n",
        "\n",
        "(p9.ggplot(data=surveys_complete,\n",
        "           mapping=p9.aes(x='weight', y='hindfoot_length'))\n",
        "    + p9.geom_point()\n",
        ")"
      ],
      "metadata": {
        "id": "4UWVk3fHQILe"
      },
      "execution_count": null,
      "outputs": []
    },
    {
      "cell_type": "code",
      "source": [
        "# use a plot template\n",
        "# Create\n",
        "surveys_plot = p9.ggplot(data=surveys_complete,\n",
        "                         mapping=p9.aes(x='weight', y='hindfoot_length'))\n",
        "\n",
        "# Draw the plot\n",
        "surveys_plot + p9.geom_point()"
      ],
      "metadata": {
        "id": "JVF35IZzZVKK"
      },
      "execution_count": null,
      "outputs": []
    },
    {
      "cell_type": "code",
      "source": [
        "# use transparency\n",
        "(p9.ggplot(data=surveys_complete,\n",
        "           mapping=p9.aes(x='weight', y='hindfoot_length'))\n",
        "    + p9.geom_point(alpha=0.1)\n",
        ")"
      ],
      "metadata": {
        "id": "V2W2xr27ZZpO"
      },
      "execution_count": null,
      "outputs": []
    },
    {
      "cell_type": "code",
      "source": [
        "# use colour\n",
        "(p9.ggplot(data=surveys_complete,\n",
        "           mapping=p9.aes(x='weight', y='hindfoot_length'))\n",
        "    + p9.geom_point(alpha=0.1, colour='blue')\n",
        ")"
      ],
      "metadata": {
        "id": "lhseWfEoPYGI"
      },
      "execution_count": null,
      "outputs": []
    },
    {
      "cell_type": "code",
      "source": [
        "# colour by species_id\n",
        "(p9.ggplot(data=surveys_complete,\n",
        "           mapping=p9.aes(x='weight',\n",
        "                          y='hindfoot_length',\n",
        "                          color='species_id'))\n",
        "    + p9.geom_point(alpha=0.1)\n",
        ")"
      ],
      "metadata": {
        "id": "7M4OrmMYZ7S-"
      },
      "execution_count": null,
      "outputs": []
    },
    {
      "cell_type": "code",
      "source": [
        "# Change X label\n",
        "(p9.ggplot(data=surveys_complete,\n",
        "           mapping=p9.aes(x='weight', y='hindfoot_length', color='species_id'))\n",
        "    + p9.geom_point(alpha=0.1)\n",
        "    + p9.xlab(\"Weight (g)\")\n",
        ")"
      ],
      "metadata": {
        "id": "JPytAwRLcR9r"
      },
      "execution_count": null,
      "outputs": []
    },
    {
      "cell_type": "code",
      "source": [
        "# Choose log scale for X\n",
        "(p9.ggplot(data=surveys_complete,\n",
        "           mapping=p9.aes(x='weight', y='hindfoot_length', color='species_id'))\n",
        "    + p9.geom_point(alpha=0.1)\n",
        "    + p9.xlab(\"Weight (g)\")\n",
        "    + p9.scale_x_log10()\n",
        ")"
      ],
      "metadata": {
        "id": "VW-jcZJucrvO"
      },
      "execution_count": null,
      "outputs": []
    },
    {
      "cell_type": "code",
      "source": [
        "# Changing theme elements\n",
        "(p9.ggplot(data=surveys_complete,\n",
        "           mapping=p9.aes(x='weight', y='hindfoot_length', color='species_id'))\n",
        "    + p9.geom_point(alpha=0.1)\n",
        "    + p9.xlab(\"Weight (g)\")\n",
        "    + p9.scale_x_log10()\n",
        "    + p9.theme_bw()\n",
        "    + p9.theme(text=p9.element_text(size=16))\n",
        ")"
      ],
      "metadata": {
        "id": "I9VVzuKPc5m1"
      },
      "execution_count": null,
      "outputs": []
    },
    {
      "cell_type": "code",
      "source": [
        "# Using boxplots to visualise distributions\n",
        "(p9.ggplot(data=surveys_complete,\n",
        "           mapping=p9.aes(x='species_id',\n",
        "                          y='weight'))\n",
        "    + p9.geom_boxplot()\n",
        ")"
      ],
      "metadata": {
        "id": "JkpoyxiOgulb"
      },
      "execution_count": null,
      "outputs": []
    },
    {
      "cell_type": "code",
      "source": [
        "# overlay boxplots with points to show population of each distribution\n",
        "(p9.ggplot(data=surveys_complete,\n",
        "           mapping=p9.aes(x='species_id',\n",
        "                          y='weight'))\n",
        "    + p9.geom_jitter(alpha=0.2)\n",
        "    + p9.geom_boxplot(alpha=0.)\n",
        ")"
      ],
      "metadata": {
        "id": "lJa0EXxxhB_K"
      },
      "execution_count": null,
      "outputs": []
    },
    {
      "cell_type": "code",
      "source": [
        "yearly_counts = surveys_complete.groupby(['year', 'species_id'])['species_id'].count()\n",
        "print(yearly_counts)\n",
        "print(\"-+_\")\n",
        "\n",
        "yearly_counts = yearly_counts.reset_index(name='counts')\n",
        "print(yearly_counts)"
      ],
      "metadata": {
        "id": "cGsu7pVDhn3w"
      },
      "execution_count": null,
      "outputs": []
    },
    {
      "cell_type": "code",
      "source": [
        "(p9.ggplot(data=yearly_counts,\n",
        "           mapping=p9.aes(x='year',\n",
        "                          y='counts'))\n",
        "    + p9.geom_line()\n",
        ")\n"
      ],
      "metadata": {
        "id": "bFWK9cBiiL_b"
      },
      "execution_count": null,
      "outputs": []
    },
    {
      "cell_type": "code",
      "source": [
        "# take 2 - split by species\n",
        "(p9.ggplot(data=yearly_counts,\n",
        "           mapping=p9.aes(x='year',\n",
        "                          y='counts',\n",
        "                          color='species_id'))\n",
        "    + p9.geom_line()\n",
        ")"
      ],
      "metadata": {
        "id": "JDWtoNzoijw7"
      },
      "execution_count": null,
      "outputs": []
    },
    {
      "cell_type": "code",
      "source": [
        "# Splitting using facetting\n",
        "(p9.ggplot(data=surveys_complete,\n",
        "           mapping=p9.aes(x='weight',\n",
        "                          y='hindfoot_length',\n",
        "                          color='species_id'))\n",
        "    + p9.geom_point(alpha=0.1)\n",
        "    + p9.facet_wrap(\"plot_id\")\n",
        ")"
      ],
      "metadata": {
        "id": "dNLdzbaqjU-v"
      },
      "execution_count": null,
      "outputs": []
    },
    {
      "cell_type": "code",
      "source": [
        "# only select the years of interest\n",
        "survey_2000 = surveys_complete[surveys_complete[\"year\"].isin([2000, 2001])]\n",
        "\n",
        "(p9.ggplot(data=survey_2000,\n",
        "           mapping=p9.aes(x='weight',\n",
        "                          y='hindfoot_length',\n",
        "                          color='species_id'))\n",
        "    + p9.geom_point(alpha=0.1)\n",
        "    + p9.facet_grid(\"year ~ sex\")\n",
        ")"
      ],
      "metadata": {
        "id": "9RlYKsZmqqco"
      },
      "execution_count": null,
      "outputs": []
    },
    {
      "cell_type": "code",
      "source": [
        "# bar plots\n",
        "(p9.ggplot(data=surveys_complete,\n",
        "           mapping=p9.aes(x='factor(year)'))\n",
        "    + p9.geom_bar()\n",
        ")"
      ],
      "metadata": {
        "id": "u1KFAjgcprJ6"
      },
      "execution_count": null,
      "outputs": []
    },
    {
      "cell_type": "code",
      "source": [
        "# fix year labels\n",
        "(p9.ggplot(data=surveys_complete,\n",
        "           mapping=p9.aes(x='factor(year)'))\n",
        "    + p9.geom_bar()\n",
        "    + p9.theme_bw()\n",
        "    + p9.theme(axis_text_x = p9.element_text(angle=90))\n",
        ")"
      ],
      "metadata": {
        "id": "uGTyKZ6wrf0C"
      },
      "execution_count": null,
      "outputs": []
    },
    {
      "cell_type": "code",
      "source": [
        "# storing a custom theme as object for later usage\n",
        "my_custom_theme = p9.theme(axis_text_x = p9.element_text(color=\"grey\", size=10,\n",
        "                                                         angle=90, hjust=.5),\n",
        "                           axis_text_y = p9.element_text(color=\"grey\", size=10))\n",
        "\n",
        "(p9.ggplot(data=surveys_complete,\n",
        "           mapping=p9.aes(x='factor(year)'))\n",
        "    + p9.geom_bar()\n",
        "    + my_custom_theme\n",
        ")"
      ],
      "metadata": {
        "id": "eoah2M8atWeS"
      },
      "execution_count": null,
      "outputs": []
    },
    {
      "cell_type": "code",
      "source": [
        "# Saving a plot\n",
        "my_plot = (p9.ggplot(data=surveys_complete,\n",
        "           mapping=p9.aes(x='weight', y='hindfoot_length'))\n",
        "    + p9.geom_point()\n",
        ")\n",
        "my_plot.save(\"scatterplot.png\", width=10, height=10, dpi=300)"
      ],
      "metadata": {
        "id": "-TverGDBtrsm"
      },
      "execution_count": null,
      "outputs": []
    }
  ]
}