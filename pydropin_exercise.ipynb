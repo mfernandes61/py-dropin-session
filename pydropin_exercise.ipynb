{
  "nbformat": 4,
  "nbformat_minor": 0,
  "metadata": {
    "colab": {
      "provenance": [],
      "authorship_tag": "ABX9TyP6EwrJi1zBIq872x7LSaqd",
      "include_colab_link": true
    },
    "kernelspec": {
      "name": "python3",
      "display_name": "Python 3"
    },
    "language_info": {
      "name": "python"
    }
  },
  "cells": [
    {
      "cell_type": "markdown",
      "metadata": {
        "id": "view-in-github",
        "colab_type": "text"
      },
      "source": [
        "<a href=\"https://colab.research.google.com/github/mfernandes61/py-dropin-session/blob/main/pydropin_exercise.ipynb\" target=\"_parent\"><img src=\"https://colab.research.google.com/assets/colab-badge.svg\" alt=\"Open In Colab\"/></a>"
      ]
    },
    {
      "cell_type": "markdown",
      "source": [
        "# Exercise in Exploratory Data Analysis.  \n",
        "## Uses the [Pandas](https://pandas.pydata.org/) and [Plotnine](https://plotnine.org/) packages\n",
        "## Created as teaching aid by Mark Fernandes.\n",
        "University of Cambridge."
      ],
      "metadata": {
        "id": "gERhTV5HKWwW"
      }
    },
    {
      "cell_type": "markdown",
      "source": [
        "## Useful Python Notebook insight.  \n",
        "We can run Linux command line utilities from a Notebook Code cell by prefixing them with an exclamation mark (!).   \n",
        "In the next cell we will utilise the **wget** tool to download a data file off the internet onto our computer ([Wget documentation](https://www.gnu.org/software/wget/manual/wget.html) here).    \n",
        "\n",
        "This is a simple exploration of a dataset using Python. A much more in-depth example of using this data is [here in this paper.](https://pmc.ncbi.nlm.nih.gov/articles/PMC8943493/).  \n",
        "\n",
        "\n"
      ],
      "metadata": {
        "id": "_VeJqncsOsZC"
      }
    },
    {
      "cell_type": "code",
      "execution_count": null,
      "metadata": {
        "id": "s59ixWQnvQ-a"
      },
      "outputs": [],
      "source": [
        "# Pull the Pima-Indians-Diabetes-Data using wget\n",
        "!wget -O diabetes.csv https://raw.githubusercontent.com/plotly/datasets/master/diabetes.csv"
      ]
    },
    {
      "cell_type": "markdown",
      "source": [
        "## Build our analysis environment   \n",
        "- Load packages (**numpy** & **pandas**)\n",
        "- Read data into a Python Data structure (**dataframe**).  "
      ],
      "metadata": {
        "id": "aJU73BAaKb3B"
      }
    },
    {
      "cell_type": "code",
      "source": [
        "import numpy as np\n",
        "import pandas as pd\n",
        "from pandas import read_csv\n",
        "\n",
        "# Read data into python\n",
        "pima = read_csv(\"diabetes.csv\")\n",
        "\n",
        "pima"
      ],
      "metadata": {
        "id": "ko37bu2jvhP9"
      },
      "execution_count": null,
      "outputs": []
    },
    {
      "cell_type": "markdown",
      "source": [
        "## What is the data like?   \n",
        "- Characterise the data - do we have the expected number of rows & columns?\n",
        "Algebraic representation\n",
        "- Get the summary statistics for the data (can indicate data provenance issues)\n",
        "- Are there any indications of possibly correlated variables?"
      ],
      "metadata": {
        "id": "lOt28XxnLPoo"
      }
    },
    {
      "cell_type": "code",
      "source": [
        "# give data the once-over\n",
        "print(pima.shape)\n",
        "print(pima.head)\n",
        "print(pima.columns)"
      ],
      "metadata": {
        "id": "l854ifGcAtrh"
      },
      "execution_count": null,
      "outputs": []
    },
    {
      "cell_type": "code",
      "source": [
        "# get summary statistics for our data\n",
        "pima.describe()"
      ],
      "metadata": {
        "id": "JWvTWl4xA9U2"
      },
      "execution_count": null,
      "outputs": []
    },
    {
      "cell_type": "code",
      "source": [
        "# can we see any correlations in our data?\n",
        "print(pima.corr(method =\"pearson\"))"
      ],
      "metadata": {
        "id": "z2VgOiHYBgQz"
      },
      "execution_count": null,
      "outputs": []
    },
    {
      "cell_type": "markdown",
      "source": [
        "## Moving from algebraic to geometrical exploration.  \n",
        "If we just take these results at face value, there are some potential correlations (Pearson measures strength of linear relationship) with values above 0.4.   \n",
        "Rather than trusting to summary **statistics** we should additionally perform graphical examination.   \n",
        "Using both approaches can give us useful insights into our data.   \n",
        "An example would be a histogram of the data as the distribution helps decide suitable statistical tests e.g. is data normally distributed?   "
      ],
      "metadata": {
        "id": "TvTBGWrQYS6K"
      }
    },
    {
      "cell_type": "code",
      "source": [
        "# plots using plotnine\n",
        "%matplotlib inline\n",
        "import plotnine as p9\n",
        "\n",
        "(p9.ggplot(data=pima,\n",
        "           mapping=p9.aes(x='Age', y='Pregnancies'))\n",
        "    + p9.geom_point()\n",
        ")\n"
      ],
      "metadata": {
        "id": "S-d2l5AWCggm"
      },
      "execution_count": null,
      "outputs": []
    },
    {
      "cell_type": "code",
      "source": [
        "\n",
        "(p9.ggplot(data=pima,\n",
        "           mapping=p9.aes(x='Outcome', y='Glucose'))\n",
        "    + p9.geom_point()\n",
        ")"
      ],
      "metadata": {
        "id": "bsDkzlehXgYl"
      },
      "execution_count": null,
      "outputs": []
    },
    {
      "cell_type": "code",
      "source": [
        "\n",
        "(p9.ggplot(data=pima,\n",
        "           mapping=p9.aes(x='Insulin', y='SkinThickness'))\n",
        "    + p9.geom_point()\n",
        ")"
      ],
      "metadata": {
        "id": "MP0FMneZXinq"
      },
      "execution_count": null,
      "outputs": []
    },
    {
      "cell_type": "code",
      "source": [
        "\n",
        "(p9.ggplot(data=pima,\n",
        "           mapping=p9.aes(x='BMI', y='SkinThickness'))\n",
        "    + p9.geom_point()\n",
        ")"
      ],
      "metadata": {
        "id": "TsKmR41sXBsH"
      },
      "execution_count": null,
      "outputs": []
    },
    {
      "cell_type": "markdown",
      "source": [
        "## Where does this take us?   \n",
        "\n",
        "- Does this last plot suggest a relationship?\n",
        "- What is a third way of interpreting this data and what issue with the data does it illustrate?\n",
        "\n"
      ],
      "metadata": {
        "id": "l6bje5EoaLdx"
      }
    },
    {
      "cell_type": "markdown",
      "source": [
        "## Hint.  \n",
        "Clue - look closely at skin thickness and BMI.  \n",
        "\n",
        "Let's break out another pandas tool to further explore correlation between our variables.   \n"
      ],
      "metadata": {
        "id": "3R37ygmkOwgX"
      }
    },
    {
      "cell_type": "code",
      "source": [
        "# Tricky creating matrixplot in plotnine so let's use a pandas plotting tool\n",
        "# to explore correlation between ALL of our variables\n",
        "from pandas.plotting import scatter_matrix\n",
        "scatter_matrix(pima, alpha = 0.2,  diagonal = 'kde')"
      ],
      "metadata": {
        "id": "agijySUGrfsS"
      },
      "execution_count": null,
      "outputs": []
    },
    {
      "cell_type": "markdown",
      "source": [
        "To improve your Python programming it is worth visiting the Python Documentation [site](https://docs.python.org/3/).   \n"
      ],
      "metadata": {
        "id": "3zAUWGA9BeRc"
      }
    },
    {
      "cell_type": "code",
      "source": [],
      "metadata": {
        "id": "JTdCc4YArzOu"
      },
      "execution_count": null,
      "outputs": []
    }
  ]
}