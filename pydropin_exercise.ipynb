{
  "nbformat": 4,
  "nbformat_minor": 0,
  "metadata": {
    "colab": {
      "provenance": [],
      "authorship_tag": "ABX9TyMVMcemSjtumOOFfatPHdhn",
      "include_colab_link": true
    },
    "kernelspec": {
      "name": "python3",
      "display_name": "Python 3"
    },
    "language_info": {
      "name": "python"
    }
  },
  "cells": [
    {
      "cell_type": "markdown",
      "metadata": {
        "id": "view-in-github",
        "colab_type": "text"
      },
      "source": [
        "<a href=\"https://colab.research.google.com/github/mfernandes61/py-dropin-session/blob/main/pydropin_exercise.ipynb\" target=\"_parent\"><img src=\"https://colab.research.google.com/assets/colab-badge.svg\" alt=\"Open In Colab\"/></a>"
      ]
    },
    {
      "cell_type": "markdown",
      "source": [
        "# Exercise in Exploratory Data Analysis.  \n",
        "## Uses Pandas and Plotnine packages\n",
        "## Created as teaching aid by Mark Fernandes.\n",
        "University of Cambridge."
      ],
      "metadata": {
        "id": "gERhTV5HKWwW"
      }
    },
    {
      "cell_type": "code",
      "execution_count": null,
      "metadata": {
        "id": "s59ixWQnvQ-a"
      },
      "outputs": [],
      "source": [
        "# Pull the Pima-Indians-Diabetes-Data using wget\n",
        "!wget -O diabetes.csv https://raw.githubusercontent.com/plotly/datasets/master/diabetes.csv"
      ]
    },
    {
      "cell_type": "code",
      "source": [
        "import numpy as np\n",
        "import pandas as pd\n",
        "from pandas import read_csv\n",
        "\n",
        "# Read data into python\n",
        "pima = read_csv(\"diabetes.csv\")\n",
        "\n",
        "pima"
      ],
      "metadata": {
        "id": "ko37bu2jvhP9"
      },
      "execution_count": null,
      "outputs": []
    },
    {
      "cell_type": "code",
      "source": [
        "# give data the once-over\n",
        "print(pima.shape)\n",
        "print(pima.head)\n",
        "print(pima.columns)"
      ],
      "metadata": {
        "id": "l854ifGcAtrh"
      },
      "execution_count": null,
      "outputs": []
    },
    {
      "cell_type": "code",
      "source": [
        "# get summary statistics for our data\n",
        "pima.describe()"
      ],
      "metadata": {
        "id": "JWvTWl4xA9U2"
      },
      "execution_count": null,
      "outputs": []
    },
    {
      "cell_type": "code",
      "source": [
        "# can we see any correlations in our data?\n",
        "print(pima.corr(method =\"pearson\"))"
      ],
      "metadata": {
        "id": "z2VgOiHYBgQz"
      },
      "execution_count": null,
      "outputs": []
    },
    {
      "cell_type": "markdown",
      "source": [
        "If we just take these results at face value, there are some potential correlations (Pearson measures strength of linear relationship) with values above 0.4.   \n",
        "Rather than trusting to summary statisics we should additionally perform graphical examination."
      ],
      "metadata": {
        "id": "TvTBGWrQYS6K"
      }
    },
    {
      "cell_type": "code",
      "source": [
        "# plots using plotnine\n",
        "%matplotlib inline\n",
        "import plotnine as p9\n",
        "\n",
        "(p9.ggplot(data=pima,\n",
        "           mapping=p9.aes(x='Age', y='Pregnancies'))\n",
        "    + p9.geom_point()\n",
        ")\n"
      ],
      "metadata": {
        "id": "S-d2l5AWCggm"
      },
      "execution_count": null,
      "outputs": []
    },
    {
      "cell_type": "code",
      "source": [
        "\n",
        "(p9.ggplot(data=pima,\n",
        "           mapping=p9.aes(x='Outcome', y='Glucose'))\n",
        "    + p9.geom_point()\n",
        ")"
      ],
      "metadata": {
        "id": "bsDkzlehXgYl"
      },
      "execution_count": null,
      "outputs": []
    },
    {
      "cell_type": "code",
      "source": [
        "\n",
        "(p9.ggplot(data=pima,\n",
        "           mapping=p9.aes(x='Insulin', y='SkinThickness'))\n",
        "    + p9.geom_point()\n",
        ")"
      ],
      "metadata": {
        "id": "MP0FMneZXinq"
      },
      "execution_count": null,
      "outputs": []
    },
    {
      "cell_type": "code",
      "source": [
        "\n",
        "(p9.ggplot(data=pima,\n",
        "           mapping=p9.aes(x='BMI', y='SkinThickness'))\n",
        "    + p9.geom_point()\n",
        ")"
      ],
      "metadata": {
        "id": "TsKmR41sXBsH"
      },
      "execution_count": null,
      "outputs": []
    },
    {
      "cell_type": "markdown",
      "source": [
        "Does this last plot suggest a relationship?"
      ],
      "metadata": {
        "id": "l6bje5EoaLdx"
      }
    },
    {
      "cell_type": "code",
      "source": [],
      "metadata": {
        "id": "YVlxKs8yrv_P"
      },
      "execution_count": 9,
      "outputs": []
    },
    {
      "cell_type": "code",
      "source": [
        "# Tricky creating matrixplot in plotnine so let's use a pandas plotting tool\n",
        "# to explore correlation between ALL of our variables\n",
        "from pandas.plotting import scatter_matrix\n",
        "scatter_matrix(pima, alpha = 0.2,  diagonal = 'kde')"
      ],
      "metadata": {
        "id": "agijySUGrfsS"
      },
      "execution_count": null,
      "outputs": []
    },
    {
      "cell_type": "code",
      "source": [],
      "metadata": {
        "id": "JTdCc4YArzOu"
      },
      "execution_count": 10,
      "outputs": []
    }
  ]
}